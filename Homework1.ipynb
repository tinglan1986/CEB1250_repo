{
 "cells": [
  {
   "cell_type": "markdown",
   "metadata": {},
   "source": [
    "- Ask the user for a number. Depending on whether the number is even or odd, print out anappropriate message;"
   ]
  },
  {
   "cell_type": "code",
   "execution_count": 1,
   "metadata": {},
   "outputs": [
    {
     "name": "stdout",
     "output_type": "stream",
     "text": [
      "What is your number?10\n",
      "It is an even number.\n"
     ]
    }
   ],
   "source": [
    "run = False\n",
    "while not run:\n",
    "    numStr = input(\"What is your number?\")\n",
    "    try:\n",
    "        num = int(numStr)\n",
    "        run = True\n",
    "        if num % 2 == 0:\n",
    "            print(\"It is an even number.\")\n",
    "        else:\n",
    "            print(\"It is an odd number.\")\n",
    "    except ValueError:\n",
    "        print(\"Please enter a number.\")"
   ]
  },
  {
   "cell_type": "markdown",
   "metadata": {},
   "source": [
    "- Expanding the previous exercise, let’s say I give you a list saved in a variable: a = [1, 4, 9, 16, 25, 36,\n",
    "49, 64, 81, 100]. Write one line of Python that takes this list a and makes a new list that has only the\n",
    "even elements of this list in it."
   ]
  },
  {
   "cell_type": "code",
   "execution_count": 2,
   "metadata": {},
   "outputs": [
    {
     "name": "stdout",
     "output_type": "stream",
     "text": [
      "[4, 16, 36, 64, 100]\n"
     ]
    }
   ],
   "source": [
    "a = [1, 4, 9, 16, 25, 36, 49, 64, 81, 100]\n",
    "\n",
    "List = [x for x in a if x % 2 == 0]\n",
    "\n",
    "print(List)"
   ]
  },
  {
   "cell_type": "markdown",
   "metadata": {},
   "source": [
    "- Create a function that takes a list of numbers. Return the largest number in the list."
   ]
  },
  {
   "cell_type": "code",
   "execution_count": 3,
   "metadata": {},
   "outputs": [
    {
     "data": {
      "text/plain": [
       "100"
      ]
     },
     "execution_count": 3,
     "metadata": {},
     "output_type": "execute_result"
    }
   ],
   "source": [
    "from functools import reduce\n",
    "\n",
    "reduce(lambda x, y: x if (x > y) else y, a)"
   ]
  },
  {
   "cell_type": "markdown",
   "metadata": {},
   "source": [
    "- Ask the user for a string and print out whether this string is a palindrome or not. (A palindrome is a\n",
    "string that reads the same forwards and backwards.)"
   ]
  },
  {
   "cell_type": "code",
   "execution_count": 4,
   "metadata": {},
   "outputs": [
    {
     "name": "stdout",
     "output_type": "stream",
     "text": [
      "What is your string?ATA\n",
      "Yes\n"
     ]
    }
   ],
   "source": [
    "def isPalindrome(a):\n",
    "    Rev = ''.join(reversed(a)) \n",
    "  \n",
    "    if (a == Rev): \n",
    "        return True\n",
    "    return False\n",
    "  \n",
    "\n",
    "# main function\n",
    "\n",
    "run = False\n",
    "while not run:\n",
    "    Str = input(\"What is your string?\")\n",
    "    try:\n",
    "        answer = isPalindrome(Str)\n",
    "        run = True\n",
    "        if (answer): \n",
    "            print(\"Yes\") \n",
    "        else: \n",
    "            print(\"No\") \n",
    "    except ValueError:\n",
    "        print(\"Please enter a string.\")"
   ]
  },
  {
   "cell_type": "markdown",
   "metadata": {},
   "source": [
    "- Write a program that asks the user how many Fibonnaci numbers to generate and then generates\n",
    "them."
   ]
  },
  {
   "cell_type": "code",
   "execution_count": 5,
   "metadata": {},
   "outputs": [
    {
     "name": "stdout",
     "output_type": "stream",
     "text": [
      "55\n"
     ]
    }
   ],
   "source": [
    "def genfibonacci(num):\n",
    "    if num <= 1:\n",
    "        sum = num\n",
    "    else:\n",
    "        sum = genfibonacci(num-1) + genfibonacci(num-2)\n",
    "    return sum\n",
    "\n",
    "# main function\n",
    "\n",
    "print(genfibonacci(10))"
   ]
  },
  {
   "cell_type": "markdown",
   "metadata": {},
   "source": [
    "- Write a program that takes a number and print its square."
   ]
  },
  {
   "cell_type": "code",
   "execution_count": 6,
   "metadata": {},
   "outputs": [
    {
     "name": "stdout",
     "output_type": "stream",
     "text": [
      "100\n"
     ]
    }
   ],
   "source": [
    "def numSquare(num):\n",
    "    s = num**2\n",
    "    \n",
    "    return s\n",
    "\n",
    "# main function\n",
    "\n",
    "print(numSquare(10))"
   ]
  },
  {
   "cell_type": "markdown",
   "metadata": {},
   "source": [
    "- Given an list of positive integers with higher than 0 the answer should contain average values."
   ]
  },
  {
   "cell_type": "code",
   "execution_count": 7,
   "metadata": {},
   "outputs": [
    {
     "data": {
      "text/plain": [
       "5.0"
      ]
     },
     "execution_count": 7,
     "metadata": {},
     "output_type": "execute_result"
    }
   ],
   "source": [
    "b = [1, 2, 3, 4, 5, 6, 7, 8, 9]\n",
    "reduce(lambda x, y: x + y, b) / len(b)"
   ]
  },
  {
   "cell_type": "markdown",
   "metadata": {},
   "source": [
    "- Return the number of vowels per string."
   ]
  },
  {
   "cell_type": "code",
   "execution_count": 8,
   "metadata": {},
   "outputs": [
    {
     "name": "stdout",
     "output_type": "stream",
     "text": [
      "Enter string:Egg\n",
      "Number of vowels are: \n",
      "1\n"
     ]
    }
   ],
   "source": [
    "Str = input(\"Enter string:\")\n",
    "vowels = 0\n",
    "for i in Str:\n",
    "      if(i=='a' or i=='e' or i=='i' or i=='o' or i=='u' or i=='A' or i=='E' or i=='I' or i=='O' or i=='U'):\n",
    "            vowels=vowels+1\n",
    "print(\"Number of vowels are: \")\n",
    "print(vowels)"
   ]
  },
  {
   "cell_type": "markdown",
   "metadata": {},
   "source": [
    "- Write a program to convert degrees of Fahrenheit to Celsius."
   ]
  },
  {
   "cell_type": "code",
   "execution_count": 9,
   "metadata": {},
   "outputs": [
    {
     "name": "stdout",
     "output_type": "stream",
     "text": [
      "302.22222222222223\n"
     ]
    }
   ],
   "source": [
    "def fahToCel(num):\n",
    "    a = (num - 32) * 5 / 9\n",
    "    \n",
    "    return a\n",
    "\n",
    "print(fahToCel(576))"
   ]
  }
 ],
 "metadata": {
  "kernelspec": {
   "display_name": "Python 3",
   "language": "python",
   "name": "python3"
  },
  "language_info": {
   "codemirror_mode": {
    "name": "ipython",
    "version": 3
   },
   "file_extension": ".py",
   "mimetype": "text/x-python",
   "name": "python",
   "nbconvert_exporter": "python",
   "pygments_lexer": "ipython3",
   "version": "3.6.1"
  }
 },
 "nbformat": 4,
 "nbformat_minor": 2
}
